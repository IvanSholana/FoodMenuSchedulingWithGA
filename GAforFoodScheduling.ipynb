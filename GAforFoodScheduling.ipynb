{
 "cells": [
  {
   "cell_type": "code",
   "execution_count": 10,
   "metadata": {},
   "outputs": [],
   "source": [
    "import random"
   ]
  },
  {
   "cell_type": "code",
   "execution_count": 11,
   "metadata": {},
   "outputs": [],
   "source": [
    "class MenuMakanan:\n",
    "    def __init__(self,nama,harga):\n",
    "        self.nama = nama\n",
    "        self.harga = harga\n",
    "\n",
    "class JadwalHarian:\n",
    "    def __init__(self,hari,listMenu):\n",
    "        self.hari = hari\n",
    "        self.listMenu = [listMenu]"
   ]
  },
  {
   "cell_type": "code",
   "execution_count": 12,
   "metadata": {},
   "outputs": [],
   "source": [
    "# Menu Makanan\n",
    "ListMenu = [MenuMakanan(\"Tempe Kecap\",3000),\n",
    "            MenuMakanan(\"Usus\",3000),\n",
    "            MenuMakanan(\"Nasi Pecel\",10000),\n",
    "            MenuMakanan(\"Ayam Geprek\",10000),\n",
    "            MenuMakanan(\"Cap Jay\",3000),\n",
    "            MenuMakanan(\"Tahu Tek\",12000),\n",
    "            MenuMakanan(\"Sate Ayam\",10000),\n",
    "            MenuMakanan(\"Bebek Goreng\",12000),\n",
    "            MenuMakanan(\"Tempe Pedas\",3000),\n",
    "            MenuMakanan(\"Kerang\",3000),\n",
    "            MenuMakanan(\"Telur Goreng\",2000),\n",
    "            MenuMakanan(\"Kentang Goreng\",3000),\n",
    "            MenuMakanan(\"Teri Kacang\",3000),\n",
    "            MenuMakanan(\"Krengsengan Hati\",4000),\n",
    "            MenuMakanan(\"Mie Goreng\",4000),\n",
    "            MenuMakanan(\"Pempek\",10000)]"
   ]
  },
  {
   "cell_type": "code",
   "execution_count": 13,
   "metadata": {},
   "outputs": [],
   "source": [
    "def initialize_chromosome(num_days):\n",
    "    chromosome = []\n",
    "    for _ in range(num_days):\n",
    "        daily_menu = random.sample(ListMenu, 3)\n",
    "        chromosome.append(daily_menu)\n",
    "    return chromosome"
   ]
  },
  {
   "cell_type": "code",
   "execution_count": 14,
   "metadata": {},
   "outputs": [],
   "source": [
    "def hitung_fitness(gen):\n",
    "    total_cost = 0\n",
    "    penalti = 0\n",
    "    \n",
    "    # Cari Total Harga / 3 Hari\n",
    "    for i in gen:\n",
    "        for y in i:\n",
    "            total_cost += y.harga\n",
    "            \n",
    "    # Cek Makanan Sama Kurang dari 3 Hari\n",
    "    for i in range(3,33,3):\n",
    "        ListMenu = set(gen[i:i+3])\n",
    "        if(ListMenu != 9):\n",
    "            penalti += (9 -  len(ListMenu))\n",
    "    \n",
    "    return 1 / (penalti)"
   ]
  },
  {
   "cell_type": "code",
   "execution_count": 15,
   "metadata": {},
   "outputs": [],
   "source": [
    "# Fungsi crossover (persilangan) untuk menghasilkan anak\n",
    "def crossover(parent1, parent2):\n",
    "    crossover_point1 = random.randint(0, len(parent1) - 5)\n",
    "    crossover_point2 = random.randint(crossover_point1 + 1, len(parent1) - 1)\n",
    "    child = parent1[:crossover_point1] + parent2[crossover_point1:crossover_point2] + parent1[crossover_point2:]\n",
    "    \n",
    "    return child"
   ]
  },
  {
   "cell_type": "code",
   "execution_count": 16,
   "metadata": {},
   "outputs": [],
   "source": [
    "def mutation(child):\n",
    "    return random.shuffle(child)"
   ]
  },
  {
   "cell_type": "code",
   "execution_count": 17,
   "metadata": {},
   "outputs": [],
   "source": [
    "def geneticAlgo(population,generation,mutation_probability):\n",
    "    generate_population = [initialize_chromosome(30) for _ in range(population)]\n",
    "\n",
    "    for _ in range(generation):\n",
    "        new_population = []\n",
    "        \n",
    "        for _ in range(population):\n",
    "            parent1 = random.choice(generate_population)\n",
    "            parent2 = random.choice(generate_population)\n",
    "            \n",
    "            child = crossover(parent1,parent2)\n",
    "            if random.random() < mutation_probability:\n",
    "                child = mutation(child)\n",
    "                \n",
    "            new_population.append(child)\n",
    "            \n",
    "        generate_population = new_population\n",
    "    \n",
    "    result = min([hitung_fitness(i) for i in generate_population])\n",
    "    return result"
   ]
  },
  {
   "cell_type": "code",
   "execution_count": 18,
   "metadata": {},
   "outputs": [
    {
     "ename": "TypeError",
     "evalue": "'NoneType' object is not subscriptable",
     "output_type": "error",
     "traceback": [
      "\u001b[1;31m---------------------------------------------------------------------------\u001b[0m",
      "\u001b[1;31mTypeError\u001b[0m                                 Traceback (most recent call last)",
      "Cell \u001b[1;32mIn[18], line 5\u001b[0m\n\u001b[0;32m      2\u001b[0m generation \u001b[39m=\u001b[39m \u001b[39m100\u001b[39m\n\u001b[0;32m      3\u001b[0m mutation_probability \u001b[39m=\u001b[39m \u001b[39m0.2\u001b[39m\n\u001b[1;32m----> 5\u001b[0m result \u001b[39m=\u001b[39m geneticAlgo(population,generation,mutation_probability)\n",
      "Cell \u001b[1;32mIn[17], line 11\u001b[0m, in \u001b[0;36mgeneticAlgo\u001b[1;34m(population, generation, mutation_probability)\u001b[0m\n\u001b[0;32m      8\u001b[0m parent1 \u001b[39m=\u001b[39m random\u001b[39m.\u001b[39mchoice(generate_population)\n\u001b[0;32m      9\u001b[0m parent2 \u001b[39m=\u001b[39m random\u001b[39m.\u001b[39mchoice(generate_population)\n\u001b[1;32m---> 11\u001b[0m child \u001b[39m=\u001b[39m crossover(parent1,parent2)\n\u001b[0;32m     12\u001b[0m \u001b[39mif\u001b[39;00m random\u001b[39m.\u001b[39mrandom() \u001b[39m<\u001b[39m mutation_probability:\n\u001b[0;32m     13\u001b[0m     child \u001b[39m=\u001b[39m mutation(child)\n",
      "Cell \u001b[1;32mIn[15], line 5\u001b[0m, in \u001b[0;36mcrossover\u001b[1;34m(parent1, parent2)\u001b[0m\n\u001b[0;32m      3\u001b[0m crossover_point1 \u001b[39m=\u001b[39m random\u001b[39m.\u001b[39mrandint(\u001b[39m0\u001b[39m, \u001b[39mlen\u001b[39m(parent1) \u001b[39m-\u001b[39m \u001b[39m5\u001b[39m)\n\u001b[0;32m      4\u001b[0m crossover_point2 \u001b[39m=\u001b[39m random\u001b[39m.\u001b[39mrandint(crossover_point1 \u001b[39m+\u001b[39m \u001b[39m1\u001b[39m, \u001b[39mlen\u001b[39m(parent1) \u001b[39m-\u001b[39m \u001b[39m1\u001b[39m)\n\u001b[1;32m----> 5\u001b[0m child \u001b[39m=\u001b[39m parent1[:crossover_point1] \u001b[39m+\u001b[39m parent2[crossover_point1:crossover_point2] \u001b[39m+\u001b[39m parent1[crossover_point2:]\n\u001b[0;32m      7\u001b[0m \u001b[39mreturn\u001b[39;00m child\n",
      "\u001b[1;31mTypeError\u001b[0m: 'NoneType' object is not subscriptable"
     ]
    }
   ],
   "source": [
    "population = 50\n",
    "generation = 100\n",
    "mutation_probability = 0.2\n",
    "\n",
    "result = geneticAlgo(population,generation,mutation_probability)\n",
    "result"
   ]
  }
 ],
 "metadata": {
  "kernelspec": {
   "display_name": "base",
   "language": "python",
   "name": "python3"
  },
  "language_info": {
   "codemirror_mode": {
    "name": "ipython",
    "version": 3
   },
   "file_extension": ".py",
   "mimetype": "text/x-python",
   "name": "python",
   "nbconvert_exporter": "python",
   "pygments_lexer": "ipython3",
   "version": "3.10.9"
  },
  "orig_nbformat": 4
 },
 "nbformat": 4,
 "nbformat_minor": 2
}
