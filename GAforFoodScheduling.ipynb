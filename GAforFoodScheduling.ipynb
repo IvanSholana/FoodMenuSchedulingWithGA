{
 "cells": [
  {
   "cell_type": "code",
   "execution_count": 424,
   "metadata": {},
   "outputs": [],
   "source": [
    "import random"
   ]
  },
  {
   "cell_type": "code",
   "execution_count": 425,
   "metadata": {},
   "outputs": [],
   "source": [
    "class MenuMakanan:\n",
    "    def __init__(self,nama,harga):\n",
    "        self.nama = nama\n",
    "        self.harga = harga\n",
    "\n",
    "class JadwalHarian:\n",
    "    def __init__(self,hari,listMenu):\n",
    "        self.hari = hari\n",
    "        self.listMenu = [listMenu]"
   ]
  },
  {
   "cell_type": "code",
   "execution_count": 426,
   "metadata": {},
   "outputs": [],
   "source": [
    "# Menu Makanan\n",
    "ListMenu = [MenuMakanan(\"Tempe Kecap\",3000),\n",
    "            MenuMakanan(\"Usus\",3000),\n",
    "            MenuMakanan(\"Nasi Pecel\",10000),\n",
    "            MenuMakanan(\"Ayam Geprek\",10000),\n",
    "            MenuMakanan(\"Cap Jay\",3000),\n",
    "            MenuMakanan(\"Tahu Tek\",12000),\n",
    "            MenuMakanan(\"Sate Ayam\",10000),\n",
    "            MenuMakanan(\"Bebek Goreng\",12000),\n",
    "            MenuMakanan(\"Tempe Pedas\",3000),\n",
    "            MenuMakanan(\"Kerang\",3000),\n",
    "            MenuMakanan(\"Telur Goreng\",2000),\n",
    "            MenuMakanan(\"Kentang Goreng\",3000),\n",
    "            MenuMakanan(\"Teri Kacang\",3000),\n",
    "            MenuMakanan(\"Krengsengan Hati\",4000),\n",
    "            MenuMakanan(\"Mie Goreng\",4000),\n",
    "            MenuMakanan(\"Pempek\",10000)]"
   ]
  },
  {
   "cell_type": "code",
   "execution_count": 427,
   "metadata": {},
   "outputs": [],
   "source": [
    "def initialize_chromosome(num_days):\n",
    "    chromosome = []\n",
    "    for _ in range(num_days):\n",
    "        daily_menu = random.sample(ListMenu, 3)\n",
    "        chromosome.append(daily_menu)\n",
    "    return chromosome"
   ]
  },
  {
   "cell_type": "code",
   "execution_count": 437,
   "metadata": {},
   "outputs": [],
   "source": [
    "def hitung_fitness(listMenu):\n",
    "    total_cost = 0\n",
    "    penalti = 0\n",
    "    \n",
    "    # Cari Total Harga / 3 Hari\n",
    "    for x in listMenu:\n",
    "        for y in x:\n",
    "            total_cost += y.harga\n",
    "            \n",
    "    # Cek Makanan Sama Kurang dari 3 Hari\n",
    "    if(set(ListMenu) != 9):\n",
    "        penalti += 1\n",
    "    \n",
    "    return 1 / (total_cost + penalti)"
   ]
  },
  {
   "cell_type": "code",
   "execution_count": 438,
   "metadata": {},
   "outputs": [
    {
     "data": {
      "text/plain": [
       "[1.7856823985285978e-05,\n",
       " 1.639317388239537e-05,\n",
       " 1.8867568536442707e-05,\n",
       " 1.666638889351844e-05,\n",
       " 1.7543551867511095e-05,\n",
       " 1.8181487609316193e-05,\n",
       " 3.0302112057210386e-05,\n",
       " 1.5624755863189637e-05,\n",
       " 1.4492543586324836e-05,\n",
       " 1.7856823985285978e-05]"
      ]
     },
     "execution_count": 438,
     "metadata": {},
     "output_type": "execute_result"
    }
   ],
   "source": [
    "result = initialize_chromosome(30)\n",
    "nota = []\n",
    "\n",
    "for i in range(3,33,3):\n",
    "    nota.append(hitung_fitness(result[i-3:i]))\n",
    "\n",
    "nota"
   ]
  },
  {
   "cell_type": "code",
   "execution_count": 430,
   "metadata": {},
   "outputs": [
    {
     "data": {
      "text/plain": [
       "{'Ayam Geprek',\n",
       " 'Bebek Goreng',\n",
       " 'Cap Jay',\n",
       " 'Kerang',\n",
       " 'Krengsengan Hati',\n",
       " 'Nasi Pecel',\n",
       " 'Pempek',\n",
       " 'Tahu Tek',\n",
       " 'Tempe Pedas'}"
      ]
     },
     "execution_count": 430,
     "metadata": {},
     "output_type": "execute_result"
    }
   ],
   "source": [
    "FindDuplicateMenu"
   ]
  }
 ],
 "metadata": {
  "kernelspec": {
   "display_name": "base",
   "language": "python",
   "name": "python3"
  },
  "language_info": {
   "codemirror_mode": {
    "name": "ipython",
    "version": 3
   },
   "file_extension": ".py",
   "mimetype": "text/x-python",
   "name": "python",
   "nbconvert_exporter": "python",
   "pygments_lexer": "ipython3",
   "version": "3.10.9"
  },
  "orig_nbformat": 4
 },
 "nbformat": 4,
 "nbformat_minor": 2
}
